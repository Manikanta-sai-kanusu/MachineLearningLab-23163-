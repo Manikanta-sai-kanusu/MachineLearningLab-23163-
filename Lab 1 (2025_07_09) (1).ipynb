{
 "cells": [
  {
   "cell_type": "markdown",
   "id": "ba268d57",
   "metadata": {},
   "source": [
    "# 1. Consider the given list as [2, 7, 4, 1, 3, 6]. Write a program to count pairs of elements with sum equal to 10. "
   ]
  },
  {
   "cell_type": "code",
   "execution_count": 4,
   "id": "fd43734a",
   "metadata": {},
   "outputs": [
    {
     "name": "stdout",
     "output_type": "stream",
     "text": [
      "Number of pairs with sum 10: 2\n"
     ]
    }
   ],
   "source": [
    "#we have found the complement of the ie(10-num) and finding if the number is present in the list or not\n",
    "def count(num):\n",
    "    occur = {}\n",
    "    count = 0\n",
    "    for i in num:\n",
    "        inverse = 10 - i\n",
    "        if inverse in occur:\n",
    "            count += occur[inverse]  \n",
    "        if i in occur:\n",
    "            occur[i] += 1\n",
    "        else:\n",
    "            occur[i] = 1\n",
    "    return count\n",
    "lst = [2, 7, 4, 1, 3, 6] \n",
    "res = count(lst) \n",
    "print(\"Number of pairs with sum 10:\", res)"
   ]
  },
  {
   "cell_type": "markdown",
   "id": "9c045ff3",
   "metadata": {},
   "source": [
    "# 2. Write a program that takes a list of real numbers as input and returns the range (difference between minimum and maximum) of the list. Check for list being less than 3 elements in which case return an error message (Ex: “Range determination not possible”). Given a list [5,3,8,1,0,4], the range is 8 (8-0). "
   ]
  },
  {
   "cell_type": "code",
   "execution_count": 8,
   "id": "b505c3ea",
   "metadata": {},
   "outputs": [
    {
     "name": "stdout",
     "output_type": "stream",
     "text": [
      "Range of list: 8\n"
     ]
    }
   ],
   "source": [
    "# range of an array means difference between the highest and least elements have found the largest element and smallest element and subtracted it\n",
    "def rangef(numbers):\n",
    "    if len(numbers) < 3:\n",
    "        return \"Range determination not possible\"\n",
    "    maxnum = max(numbers)\n",
    "    minnum = min(numbers)\n",
    "    return maxnum - minnum\n",
    "\n",
    "input_list = [5, 3, 8, 1, 0, 4]\n",
    "res = rangef(input_list)\n",
    "print(\"Range of list:\", res)\n"
   ]
  },
  {
   "cell_type": "markdown",
   "id": "00e08b70",
   "metadata": {},
   "source": [
    "# Write a program that accepts a square matrix A and a positive integer m as arguments and returns Am. "
   ]
  },
  {
   "cell_type": "code",
   "execution_count": 2,
   "id": "b64233c3",
   "metadata": {},
   "outputs": [
    {
     "name": "stdout",
     "output_type": "stream",
     "text": [
      "[[ 37  54]\n",
      " [ 81 118]]\n"
     ]
    }
   ],
   "source": [
    "import numpy as np\n",
    "new_matrix=np.array([[1,2],[3,4]])\n",
    "m=3\n",
    "result= np.linalg.matrix_power(new_matrix,m)\n",
    "print(result)"
   ]
  },
  {
   "cell_type": "code",
   "execution_count": 6,
   "id": "2d33d326",
   "metadata": {},
   "outputs": [
    {
     "name": "stdout",
     "output_type": "stream",
     "text": [
      "Matrix raised to power 2 is:\n",
      "[7, 10]\n",
      "[15, 22]\n"
     ]
    }
   ],
   "source": [
    "# Function to multiply two square matrices\n",
    "def multiplymat(mat1, mat2):\n",
    "    length = len(mat1)\n",
    "    res = [[0 for _ in range(length)] for _ in range(length)]\n",
    "    for i in range(length):\n",
    "        for j in range(length):\n",
    "            for k in range(length):\n",
    "                res[i][j] += mat1[i][k] * mat2[k][j]  \n",
    "    return res\n",
    "def matrixpow(mat, powr):\n",
    "    if powr <= 0:\n",
    "        return \"Invalid power\"  \n",
    "    size = len(mat)\n",
    "    res = [[1 if i == j else 0 for j in range(size)] for i in range(size)]\n",
    "    for _ in range(powr):\n",
    "        res = multiplymat(res, mat)\n",
    "\n",
    "    return res\n",
    "ipmat = [\n",
    "    [1, 2],\n",
    "    [3, 4]\n",
    "]\n",
    "num = 2\n",
    "\n",
    "result_matrix = matrixpow(ipmat, num)\n",
    "\n",
    "print(f\"Matrix raised to power {m} is:\")\n",
    "for row in result_matrix:\n",
    "    print(row)\n"
   ]
  },
  {
   "cell_type": "markdown",
   "id": "df82a4ed",
   "metadata": {},
   "source": [
    "# 4. Write a program to count the highest occurring character & its occurrence count in an input string. Consider only alphabets. Ex:  for “hippopotamus” as input string, the maximally occurring character is ‘p’ & occurrence count is 3. "
   ]
  },
  {
   "cell_type": "code",
   "execution_count": 13,
   "id": "50e5eec9",
   "metadata": {},
   "outputs": [
    {
     "name": "stdout",
     "output_type": "stream",
     "text": [
      "Highest occurring character: p\n",
      "Occurrence count: 3\n"
     ]
    }
   ],
   "source": [
    "#used dictionaries to maintain the record of the character and its frequency and found the maximum among them\n",
    "def moroccur(strg):\n",
    "    occur = {}\n",
    "    for y in strg:\n",
    "        if y.isalpha():\n",
    "            char = y.lower()\n",
    "            occur[y] = occur.get(y, 0) + 1\n",
    "    if not occur:\n",
    "        return None, 0\n",
    "    max_char = max(occur, key=occur.get)\n",
    "    return max_char, occur[max_char]\n",
    "\n",
    "input_string = \"hippopotamus\"\n",
    "char, count = moroccur(input_string)\n",
    "print(\"Highest occurring character:\", char)\n",
    "print(\"Occurrence count:\", count)\n"
   ]
  },
  {
   "cell_type": "markdown",
   "id": "4c7a85e2",
   "metadata": {},
   "source": [
    "# 5. Generate a list of 25 random numbers between 1 and 10. Find the mean, median and mode for these numbers. "
   ]
  },
  {
   "cell_type": "code",
   "execution_count": 12,
   "id": "906cca11",
   "metadata": {},
   "outputs": [
    {
     "name": "stdout",
     "output_type": "stream",
     "text": [
      "Random Numbers: [3, 7, 10, 5, 6, 10, 10, 10, 1, 1, 1, 9, 3, 6, 4, 10, 7, 2, 4, 9, 6, 8, 2, 1, 3]\n",
      "Mean: 5.52\n",
      "Median: 6\n",
      "Mode: 10\n"
     ]
    }
   ],
   "source": [
    "# generated a random list by using random,mean is found as sumof elements by no of elements,to find median sort the array and the find the middle term based on the condition of middle them\n",
    "#mode is found using dictionaries same as qno 4\n",
    "\n",
    "import random\n",
    "def randlist():\n",
    "    return [random.randint(1, 10) for _ in range(25)]\n",
    "\n",
    "def calmean(elements):\n",
    "    return sum(elements) / len(elements)\n",
    "\n",
    "def calmedian(elements):\n",
    "    srtlist = sorted(elements)\n",
    "    n = len(srtlist)\n",
    "    mid = n // 2\n",
    "    if n % 2 == 1:\n",
    "        return srtlist[mid]\n",
    "    else:\n",
    "        return (srtlist[mid - 1] + srtlist[mid]) / 2\n",
    "def calmode(elements):\n",
    "    frequency = {}\n",
    "    max_freq = 0\n",
    "    mode_value = None\n",
    "\n",
    "    for num in elements:\n",
    "        frequency[num] = frequency.get(num, 0) + 1\n",
    "        if frequency[num] > max_freq or (frequency[num] == max_freq and (mode_value is None or num < mode_value)):\n",
    "            max_freq = frequency[num]\n",
    "            mode_value = num\n",
    "\n",
    "    return mode_value\n",
    "\n",
    "random_numbers = randlist()\n",
    "mean_val = calmean(random_numbers)\n",
    "median_val = calmedian(random_numbers)\n",
    "mode_val = calmode(random_numbers)\n",
    "\n",
    "print(\"Random Numbers:\", random_numbers)\n",
    "print(\"Mean:\", mean_val)\n",
    "print(\"Median:\", median_val)\n",
    "print(\"Mode:\", mode_val)\n"
   ]
  },
  {
   "cell_type": "code",
   "execution_count": null,
   "id": "25d53be0",
   "metadata": {},
   "outputs": [],
   "source": []
  }
 ],
 "metadata": {
  "kernelspec": {
   "display_name": "Python 3 (ipykernel)",
   "language": "python",
   "name": "python3"
  },
  "language_info": {
   "codemirror_mode": {
    "name": "ipython",
    "version": 3
   },
   "file_extension": ".py",
   "mimetype": "text/x-python",
   "name": "python",
   "nbconvert_exporter": "python",
   "pygments_lexer": "ipython3",
   "version": "3.11.5"
  }
 },
 "nbformat": 4,
 "nbformat_minor": 5
}
